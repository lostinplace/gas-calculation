{
 "cells": [
  {
   "cell_type": "code",
   "execution_count": null,
   "outputs": [],
   "source": [],
   "metadata": {
    "collapsed": false,
    "pycharm": {
     "name": "#%%\n"
    }
   }
  },
  {
   "cell_type": "markdown",
   "source": [
    "[Answering my own question on physics stackexchange](https://physics.stackexchange.com/questions/217303/speed-of-spontaneous-mixing-of-different-gases)\n",
    "\n",
    "### tl;dr\n",
    "\n",
    "Assuming no particle-particle collisions:\n",
    "\n",
    "1. Compute the [thermal velocity](https://en.wikipedia.org/wiki/Thermal_velocity) of the particles in each volume before the divider is removed\n",
    "2. Multiply the velocity by $t$ to get the distance travelled, and divide by the depth of each volume to get the ratios that *could* escape $z_A$ and $z_B$\n",
    "3. The proportion of particles in each volume that *will* escape Volume A is $\\frac {z_A} 4$, Volume B is $\\frac {z_B} 4$\n",
    "\n",
    "Collisions and Reflection are discussed below\n",
    "\n",
    "### Walkthrough\n",
    "\n",
    "To start, I'll focus on the question, \"for each volume given time t, what proportion of the contents of volume A will transition to volume B\"\n",
    "\n",
    "Given:\n",
    "\n",
    "$A_{0}$ , $B_{0}$ = The original compositions of volumes A and B before the time step\n",
    "\n",
    "$A_{t}$ , $B_{t}$ = The original compositions of volumes A and B before the time step\n",
    "\n",
    "The difference in A after time step T is given by\n",
    "\n",
    "$A_{∆t} = A_{t} - A_0$\n",
    "\n",
    "That means that after Time step t, the composition of each volume should be\n",
    "\n",
    "$A_t = A_0 + B_{∆t} - A_{∆t}$\n",
    "\n",
    "$B_t = B_0 + A_{∆t} - B_{∆t}$\n",
    "\n",
    "The implication of this is that for each time step we only have to care up about what particles are moving between each volume in the course of each time step. *($A_{∆t}$ and $B_{∆t}$)*\n",
    "\n",
    "To start, let's remember that a single particle of an ideal gas is infinitely small, and doesn't collide with other particles (this is important in establishing the framework for the solution, but we can layer in collisions later)\n",
    "\n",
    "Any particle originating at point $O$ will over the course of time step $t$ travel a distance of $vt$  where $v$ is the particle's [thermal velocity](https://en.wikipedia.org/wiki/Thermal_velocity)\n",
    "\n",
    "For simplicity's sake, we'll define:\n",
    "\n",
    "$z = vt$\n",
    "\n",
    "Since thermal velocity is a scalar quantity, we don't necessarily know where the particle will be at $t$, but we can reasonably assume that it's final position will exist on the surface of a sphere (or a circle) labelled $W$ with the center at point $O$ and a radius of $z$ as depicted in this figure:\n",
    "\n",
    "![Figure 1](figure_1.png)\n",
    "\n",
    "At time $t$ we can imagine that the particle can be at any one of the points along the surface of $W$ with equal probability.\n",
    "\n",
    "Since we're trying to determine which particles in a given volume will be exiting that volume, we can then imagine the boundary between the two volumes as a vertical plane that divides them (which we will label as $S$ ).  With our probabilistic model of particle position, this means that any points along the surface of the sphere on the **other** side of the barrier from it's originating volume can be considered to have transitioned to the next volume.\n",
    "\n",
    "This means for a particle at distance $x$ from $S$ , the sphere describing the particle's motion is divided by the plane $S$ into two separate\n",
    "[spherical caps](https://en.wikipedia.org/wiki/Spherical_cap) ,  one on each side of the separator, We will label them $W_A$ and $W_B$ but the one we care about the most is $W_B$ which is on the $\\textbf{other}$ side, with a height defined as $z-x$\n",
    "\n",
    "This is depicted as a circle in the following diagram\n",
    "\n",
    "![Figure 2](figure_2.png)\n",
    "\n",
    "Given this model we can assert that for any particle at distance $x$ from the separator, the surface area of $W_B$ represents all the potential locations that a particle could arrive in volume B. The probability $P_{escape}$ that the particle will transition to the next volume is given by\n",
    "\n",
    "$P_{escape} = \\frac{2πz(z-x)}{4πz^2}$\n",
    "\n",
    "\n",
    "This makes some sense, since we can imagine at $x=0$ (directly against the boundary) a particle's likelihood of escape is roughly $0.5$, and at $x=z$, it is 0\n",
    "\n",
    "Since implicitly, we only care about the particles that could potentially exit over time step $t$, we know that the maximum value of $x$ that we care about is $z$.  From there, in order to get the aggregate probability that a single particle will escape it's volume, we take the definite integral of the function that describes $P_{exit}$ from $0$ to $z$\n",
    "\n",
    "$P_{exit}(x,z)\\int_0^z \\frac{2πz(z-x)}{4πz^2}dx = \\frac z 4$\n",
    "\n",
    "I'll be honest, I still have trouble believing this, but I can't find a way to come to a different answer. For practical purposes, this result means that $\\frac 1 4$ of the particles within distance $z$ of the boundary will transition to the new volume.  It's easiest to understand when you think of $z$ as being a proportion of the volume.  (e.g. if our computed $z$ is $\\frac 1 5$ of the depth of volume A, you can expect that the $\\frac 1 {20}$ of the particles in volume A will migrate to volume B)\n",
    "\n"
   ],
   "metadata": {
    "collapsed": false
   }
  },
  {
   "cell_type": "markdown",
   "source": [
    "### Collision\n",
    "\n",
    "Let's imagine 2 spheres, the first, A, representing a proximal particle at the origin, with a radius of 1, the second, B centered at $x=d$ with a radius of $r$ (all variables are measured in proximal-particle-radii).  It has a surface area $A_s$\n",
    "\n",
    "if we then imagine a sphere $Q$,at the origin with radius $z$, which represents the total distance that the particle will travel in time $t$.  By finding the internal tangent that connects our spheres A and B, we get the line that represents what the minimum viable path of one sphere is past the other.  This line is labelled \"G\" in Figure 3, and it represents.\n",
    "\n",
    "![Figure 3](figure_3.png)\n",
    "\n",
    "Given:\n",
    "\n",
    "$r$ is the radius of the particl that is being \"avoided\"\n",
    "$x$ is the distance to the particle\n",
    "\n",
    "The probability of impact is given by\n",
    "\n",
    "$P(r,x) = 1 - cos (arcsin ((r + 1)/x))$\n",
    "\n",
    "But we don't care about a single particle, we care about all collisions that may occur between a particle of a known radius in the range described by our particles potential traversal.  So, if we imagine our traversal in time $t$ will take us $z$ particle-radii, and we know the average particle radius of the particles that our particle can collide with, we can determine the probability of collision.\n",
    "\n",
    "Where:\n",
    "\n",
    "$n$ is the minimum distance (in particle-radii) a particle can travel and collide with a remote particle\n",
    "$z$ is the maximum distance a particle can travel and a collision is possible\n",
    "\n",
    "$A = \\sqrt{(n-r-1) (n+r+1)}$\n",
    "\n",
    "$B = \\sqrt{(-r+z-1) (r+z+1)}$\n",
    "\n",
    "$C = n-z$\n",
    "\n",
    "$D = r+1$\n",
    "\n",
    "$P(A,B,C,D) =  \\frac{D \\left(\\tan ^{-1}\\left(\\frac{A}{D}\\right)-\\tan ^{-1}\\left(\\frac{B}{D}\\right)\\right)-A+B+C}{C}$\n",
    "\n",
    "The work to determine is provided in the attached Mathematica notebook, `ParticleCollisonProbability.nb`\n",
    "\n",
    "We can then apply the probability of collision to the density of particles, and multiply that by the number of travelling particles.  This gives us the number of collisions that occur.  From there, we calculate that the proportion of particles that are reflected is\n",
    "\n",
    "$A_{mass}$ Mass of particle A.\n",
    "\n",
    "$B_{mass}$ Mass of particle B.\n",
    "\n",
    "$\\frac {A_{mass}}{A_{mass} + B_{mass}}$"
   ],
   "metadata": {
    "collapsed": false,
    "pycharm": {
     "name": "#%% md\n"
    }
   }
  }
 ],
 "metadata": {
  "kernelspec": {
   "display_name": "Python 3",
   "language": "python",
   "name": "python3"
  },
  "language_info": {
   "codemirror_mode": {
    "name": "ipython",
    "version": 3
   },
   "file_extension": ".py",
   "mimetype": "text/x-python",
   "name": "python",
   "nbconvert_exporter": "python",
   "pygments_lexer": "ipython3",
   "version": "3.8.5"
  }
 },
 "nbformat": 4,
 "nbformat_minor": 1
}